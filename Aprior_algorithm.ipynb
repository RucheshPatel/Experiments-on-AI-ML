{
  "nbformat": 4,
  "nbformat_minor": 0,
  "metadata": {
    "colab": {
      "provenance": [],
      "authorship_tag": "ABX9TyOwGubm0oxblAyKA+Z67GhS",
      "include_colab_link": true
    },
    "kernelspec": {
      "name": "python3",
      "display_name": "Python 3"
    },
    "language_info": {
      "name": "python"
    }
  },
  "cells": [
    {
      "cell_type": "markdown",
      "metadata": {
        "id": "view-in-github",
        "colab_type": "text"
      },
      "source": [
        "<a href=\"https://colab.research.google.com/github/RucheshPatel/Experiments-on-AI-ML/blob/main/Aprior_algorithm.ipynb\" target=\"_parent\"><img src=\"https://colab.research.google.com/assets/colab-badge.svg\" alt=\"Open In Colab\"/></a>"
      ]
    },
    {
      "cell_type": "code",
      "execution_count": null,
      "metadata": {
        "id": "x2xTEf4Vd8t3"
      },
      "outputs": [],
      "source": [
        "pip install mlxtend\n"
      ]
    },
    {
      "cell_type": "code",
      "source": [
        "import pandas as pd\n",
        "from mlxtend.frequent_patterns import apriori\n",
        "from mlxtend.frequent_patterns import association_rules\n",
        "\n",
        "# Create a DataFrame with the given interactions\n",
        "data = {\n",
        "    'User ID': [1, 2, 3, 4, 5],\n",
        "    'Interacted Users': [\n",
        "        [2, 3, 4],\n",
        "        [1, 3, 5],\n",
        "        [1, 2],\n",
        "        [1, 5],\n",
        "        [2, 4]\n",
        "    ]\n",
        "}\n",
        "df = pd.DataFrame(data)\n",
        "\n",
        "# Convert the list of Interacted Users into a string (for Apriori input)\n",
        "df['Interacted Users'] = df['Interacted Users'].apply(lambda x: ' '.join(map(str, x)))\n",
        "\n",
        "# One-hot encode the interactions\n",
        "oht = df.drop('User ID', axis=1).join(df['User ID'].apply(lambda x: pd.Series(x)).stack().reset_index(level=1, drop=True).astype(int).to_frame('User ID'))\n",
        "oht = oht.pivot_table(index='User ID', columns='Interacted Users', aggfunc='size', fill_value=0)\n",
        "\n",
        "# Apply Apriori algorithm\n",
        "frequent_itemsets = apriori(oht, min_support=0.2, use_colnames=True)\n",
        "\n",
        "# Generate association rules\n",
        "rules = association_rules(frequent_itemsets, metric='lift', min_threshold=1.0)\n",
        "\n",
        "# Display frequent itemsets and association rules\n",
        "print(\"Frequent Itemsets:\")\n",
        "print(frequent_itemsets)\n",
        "\n",
        "print(\"\\nAssociation Rules:\")\n",
        "print(rules[['antecedents', 'consequents', 'support', 'confidence', 'lift']])\n"
      ],
      "metadata": {
        "colab": {
          "base_uri": "https://localhost:8080/"
        },
        "id": "NUkDI3sqfoTo",
        "outputId": "4b8812b7-6f37-45c7-c742-4a381c35c529"
      },
      "execution_count": null,
      "outputs": [
        {
          "output_type": "stream",
          "name": "stdout",
          "text": [
            "Frequent Itemsets:\n",
            "   support itemsets\n",
            "0      0.2    (1 2)\n",
            "1      0.2  (1 3 5)\n",
            "2      0.2    (1 5)\n",
            "3      0.2  (2 3 4)\n",
            "4      0.2    (2 4)\n",
            "\n",
            "Association Rules:\n",
            "Empty DataFrame\n",
            "Columns: [antecedents, consequents, support, confidence, lift]\n",
            "Index: []\n"
          ]
        },
        {
          "output_type": "stream",
          "name": "stderr",
          "text": [
            "/usr/local/lib/python3.10/dist-packages/mlxtend/frequent_patterns/fpcommon.py:110: DeprecationWarning: DataFrames with non-bool types result in worse computationalperformance and their support might be discontinued in the future.Please use a DataFrame with bool type\n",
            "  warnings.warn(\n"
          ]
        }
      ]
    },
    {
      "cell_type": "code",
      "source": [],
      "metadata": {
        "id": "F2zaAW-ggD3D"
      },
      "execution_count": null,
      "outputs": []
    }
  ]
}